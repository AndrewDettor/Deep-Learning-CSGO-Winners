{
 "cells": [
  {
   "cell_type": "code",
   "execution_count": 3,
   "metadata": {},
   "outputs": [],
   "source": [
    "# Imports\n",
    "import pandas as pd\n",
    "import numpy as np\n",
    "import seaborn as sns\n",
    "%matplotlib inline"
   ]
  },
  {
   "cell_type": "markdown",
   "metadata": {},
   "source": [
    "***"
   ]
  },
  {
   "cell_type": "code",
   "execution_count": 5,
   "metadata": {},
   "outputs": [
    {
     "name": "stdout",
     "output_type": "stream",
     "text": [
      "<class 'pandas.core.frame.DataFrame'>\n",
      "RangeIndex: 215919 entries, 0 to 215918\n",
      "Data columns (total 10 columns):\n",
      " #   Column         Non-Null Count   Dtype  \n",
      "---  ------         --------------   -----  \n",
      " 0   file           215919 non-null  object \n",
      " 1   map            215919 non-null  object \n",
      " 2   round          215919 non-null  int64  \n",
      " 3   start_seconds  215899 non-null  float64\n",
      " 4   end_seconds    215899 non-null  float64\n",
      " 5   winner_team    215918 non-null  object \n",
      " 6   winner_side    215919 non-null  object \n",
      " 7   round_type     215919 non-null  object \n",
      " 8   ct_eq_val      215919 non-null  int64  \n",
      " 9   t_eq_val       215919 non-null  int64  \n",
      "dtypes: float64(2), int64(3), object(5)\n",
      "memory usage: 16.5+ MB\n"
     ]
    }
   ],
   "source": [
    "meta1 = pd.read_csv(\"esea_meta_demos.part1.csv\")\n",
    "meta1.info()"
   ]
  },
  {
   "cell_type": "code",
   "execution_count": 14,
   "metadata": {},
   "outputs": [
    {
     "name": "stdout",
     "output_type": "stream",
     "text": [
      "<class 'pandas.core.frame.DataFrame'>\n",
      "RangeIndex: 161710 entries, 0 to 161709\n",
      "Data columns (total 10 columns):\n",
      " #   Column         Non-Null Count   Dtype  \n",
      "---  ------         --------------   -----  \n",
      " 0   file           161710 non-null  object \n",
      " 1   map            161710 non-null  object \n",
      " 2   round          161710 non-null  int64  \n",
      " 3   start_seconds  161690 non-null  float64\n",
      " 4   end_seconds    161690 non-null  float64\n",
      " 5   winner_team    161710 non-null  object \n",
      " 6   winner_side    161710 non-null  object \n",
      " 7   round_type     161710 non-null  object \n",
      " 8   ct_eq_val      161710 non-null  int64  \n",
      " 9   t_eq_val       161710 non-null  int64  \n",
      "dtypes: float64(2), int64(3), object(5)\n",
      "memory usage: 12.3+ MB\n"
     ]
    }
   ],
   "source": [
    "meta2 = pd.read_csv(\"esea_meta_demos.part2.csv\")\n",
    "meta2.info()"
   ]
  },
  {
   "cell_type": "code",
   "execution_count": 15,
   "metadata": {},
   "outputs": [
    {
     "data": {
      "text/plain": [
       "(377629, 10)"
      ]
     },
     "execution_count": 15,
     "metadata": {},
     "output_type": "execute_result"
    }
   ],
   "source": [
    "meta = pd.concat([meta1, meta2], axis=0)\n",
    "meta.shape"
   ]
  },
  {
   "cell_type": "code",
   "execution_count": 16,
   "metadata": {},
   "outputs": [
    {
     "name": "stdout",
     "output_type": "stream",
     "text": [
      "<class 'pandas.core.frame.DataFrame'>\n",
      "Int64Index: 377629 entries, 0 to 161709\n",
      "Data columns (total 10 columns):\n",
      " #   Column         Non-Null Count   Dtype  \n",
      "---  ------         --------------   -----  \n",
      " 0   file           377629 non-null  object \n",
      " 1   map            377629 non-null  object \n",
      " 2   round          377629 non-null  int64  \n",
      " 3   start_seconds  377589 non-null  float64\n",
      " 4   end_seconds    377589 non-null  float64\n",
      " 5   winner_team    377628 non-null  object \n",
      " 6   winner_side    377629 non-null  object \n",
      " 7   round_type     377629 non-null  object \n",
      " 8   ct_eq_val      377629 non-null  int64  \n",
      " 9   t_eq_val       377629 non-null  int64  \n",
      "dtypes: float64(2), int64(3), object(5)\n",
      "memory usage: 31.7+ MB\n"
     ]
    }
   ],
   "source": [
    "# remove Nulls\n",
    "meta.info()"
   ]
  },
  {
   "cell_type": "code",
   "execution_count": 19,
   "metadata": {},
   "outputs": [
    {
     "data": {
      "text/plain": [
       "0         False\n",
       "1         False\n",
       "2         False\n",
       "3         False\n",
       "4         False\n",
       "          ...  \n",
       "161705    False\n",
       "161706    False\n",
       "161707    False\n",
       "161708    False\n",
       "161709    False\n",
       "Length: 377629, dtype: bool"
      ]
     },
     "execution_count": 19,
     "metadata": {},
     "output_type": "execute_result"
    }
   ],
   "source": [
    "meta.isna().any(axis=1)"
   ]
  },
  {
   "cell_type": "code",
   "execution_count": 22,
   "metadata": {},
   "outputs": [
    {
     "data": {
      "text/plain": [
       "array(['esea_match_13781946.dem', 'esea_match_13783912.dem',\n",
       "       'esea_match_13818665.dem'], dtype=object)"
      ]
     },
     "execution_count": 22,
     "metadata": {},
     "output_type": "execute_result"
    }
   ],
   "source": [
    "nan_files = meta.loc[meta.isna().any(axis=1),\"file\"].unique()\n",
    "nan_files"
   ]
  },
  {
   "cell_type": "code",
   "execution_count": 23,
   "metadata": {},
   "outputs": [
    {
     "data": {
      "text/plain": [
       "(377573, 10)"
      ]
     },
     "execution_count": 23,
     "metadata": {},
     "output_type": "execute_result"
    }
   ],
   "source": [
    "meta = meta.loc[~meta[\"file\"].isin(nan_files)]\n",
    "meta.shape"
   ]
  },
  {
   "cell_type": "code",
   "execution_count": 24,
   "metadata": {},
   "outputs": [],
   "source": [
    "meta.to_csv(\"meta_demos.csv\")"
   ]
  },
  {
   "cell_type": "markdown",
   "metadata": {},
   "source": [
    "***"
   ]
  },
  {
   "cell_type": "code",
   "execution_count": 25,
   "metadata": {},
   "outputs": [
    {
     "name": "stdout",
     "output_type": "stream",
     "text": [
      "<class 'pandas.core.frame.DataFrame'>\n",
      "RangeIndex: 5992097 entries, 0 to 5992096\n",
      "Data columns (total 23 columns):\n",
      " #   Column           Dtype  \n",
      "---  ------           -----  \n",
      " 0   file             object \n",
      " 1   round            int64  \n",
      " 2   tick             int64  \n",
      " 3   seconds          float64\n",
      " 4   att_team         object \n",
      " 5   vic_team         object \n",
      " 6   att_side         object \n",
      " 7   vic_side         object \n",
      " 8   hp_dmg           int64  \n",
      " 9   arm_dmg          int64  \n",
      " 10  is_bomb_planted  bool   \n",
      " 11  bomb_site        object \n",
      " 12  hitbox           object \n",
      " 13  wp               object \n",
      " 14  wp_type          object \n",
      " 15  att_id           int64  \n",
      " 16  att_rank         int64  \n",
      " 17  vic_id           int64  \n",
      " 18  vic_rank         int64  \n",
      " 19  att_pos_x        float64\n",
      " 20  att_pos_y        float64\n",
      " 21  vic_pos_x        float64\n",
      " 22  vic_pos_y        float64\n",
      "dtypes: bool(1), float64(5), int64(8), object(9)\n",
      "memory usage: 1011.5+ MB\n"
     ]
    }
   ],
   "source": [
    "dmg1 = pd.read_csv(\"esea_master_dmg_demos.part1.csv\")\n",
    "dmg1.info()"
   ]
  },
  {
   "cell_type": "code",
   "execution_count": 37,
   "metadata": {},
   "outputs": [
    {
     "name": "stdout",
     "output_type": "stream",
     "text": [
      "<class 'pandas.core.frame.DataFrame'>\n",
      "RangeIndex: 4546085 entries, 0 to 4546084\n",
      "Data columns (total 23 columns):\n",
      " #   Column           Dtype  \n",
      "---  ------           -----  \n",
      " 0   file             object \n",
      " 1   round            int64  \n",
      " 2   tick             int64  \n",
      " 3   seconds          float64\n",
      " 4   att_team         object \n",
      " 5   vic_team         object \n",
      " 6   att_side         object \n",
      " 7   vic_side         object \n",
      " 8   hp_dmg           int64  \n",
      " 9   arm_dmg          int64  \n",
      " 10  is_bomb_planted  bool   \n",
      " 11  bomb_site        object \n",
      " 12  hitbox           object \n",
      " 13  wp               object \n",
      " 14  wp_type          object \n",
      " 15  att_id           int64  \n",
      " 16  att_rank         int64  \n",
      " 17  vic_id           int64  \n",
      " 18  vic_rank         int64  \n",
      " 19  att_pos_x        float64\n",
      " 20  att_pos_y        float64\n",
      " 21  vic_pos_x        float64\n",
      " 22  vic_pos_y        float64\n",
      "dtypes: bool(1), float64(5), int64(8), object(9)\n",
      "memory usage: 767.4+ MB\n"
     ]
    }
   ],
   "source": [
    "dmg2 = pd.read_csv(\"esea_master_dmg_demos.part2.csv\")\n",
    "dmg2.info()"
   ]
  },
  {
   "cell_type": "code",
   "execution_count": 38,
   "metadata": {},
   "outputs": [
    {
     "name": "stdout",
     "output_type": "stream",
     "text": [
      "<class 'pandas.core.frame.DataFrame'>\n",
      "Int64Index: 10538182 entries, 0 to 4546084\n",
      "Data columns (total 23 columns):\n",
      " #   Column           Dtype  \n",
      "---  ------           -----  \n",
      " 0   file             object \n",
      " 1   round            int64  \n",
      " 2   tick             int64  \n",
      " 3   seconds          float64\n",
      " 4   att_team         object \n",
      " 5   vic_team         object \n",
      " 6   att_side         object \n",
      " 7   vic_side         object \n",
      " 8   hp_dmg           int64  \n",
      " 9   arm_dmg          int64  \n",
      " 10  is_bomb_planted  bool   \n",
      " 11  bomb_site        object \n",
      " 12  hitbox           object \n",
      " 13  wp               object \n",
      " 14  wp_type          object \n",
      " 15  att_id           int64  \n",
      " 16  att_rank         int64  \n",
      " 17  vic_id           int64  \n",
      " 18  vic_rank         int64  \n",
      " 19  att_pos_x        float64\n",
      " 20  att_pos_y        float64\n",
      " 21  vic_pos_x        float64\n",
      " 22  vic_pos_y        float64\n",
      "dtypes: bool(1), float64(5), int64(8), object(9)\n",
      "memory usage: 1.8+ GB\n"
     ]
    }
   ],
   "source": [
    "dmg = pd.concat([dmg1, dmg2], axis=0)\n",
    "dmg.info()"
   ]
  },
  {
   "cell_type": "code",
   "execution_count": 39,
   "metadata": {},
   "outputs": [
    {
     "data": {
      "text/plain": [
       "file               False\n",
       "round              False\n",
       "tick               False\n",
       "seconds             True\n",
       "att_team           False\n",
       "vic_team           False\n",
       "att_side           False\n",
       "vic_side           False\n",
       "hp_dmg             False\n",
       "arm_dmg            False\n",
       "is_bomb_planted    False\n",
       "bomb_site           True\n",
       "hitbox             False\n",
       "wp                 False\n",
       "wp_type            False\n",
       "att_id             False\n",
       "att_rank           False\n",
       "vic_id             False\n",
       "vic_rank           False\n",
       "att_pos_x          False\n",
       "att_pos_y          False\n",
       "vic_pos_x          False\n",
       "vic_pos_y          False\n",
       "dtype: bool"
      ]
     },
     "execution_count": 39,
     "metadata": {},
     "output_type": "execute_result"
    }
   ],
   "source": [
    "dmg.isna().any(axis=0)"
   ]
  },
  {
   "cell_type": "code",
   "execution_count": 41,
   "metadata": {},
   "outputs": [
    {
     "data": {
      "text/plain": [
       "(14927,)"
      ]
     },
     "execution_count": 41,
     "metadata": {},
     "output_type": "execute_result"
    }
   ],
   "source": [
    "dmg.loc[dmg[\"bomb_site\"].isna(), \"file\"].unique().shape"
   ]
  },
  {
   "cell_type": "code",
   "execution_count": 42,
   "metadata": {},
   "outputs": [
    {
     "data": {
      "text/plain": [
       "array(['esea_match_13781946.dem', 'esea_match_13818665.dem'], dtype=object)"
      ]
     },
     "execution_count": 42,
     "metadata": {},
     "output_type": "execute_result"
    }
   ],
   "source": [
    "dmg_nan_files = dmg.loc[dmg[\"seconds\"].isna(), \"file\"].unique()\n",
    "dmg_nan_files"
   ]
  },
  {
   "cell_type": "code",
   "execution_count": 44,
   "metadata": {},
   "outputs": [
    {
     "data": {
      "text/plain": [
       "{'esea_match_13781946.dem',\n",
       " 'esea_match_13783912.dem',\n",
       " 'esea_match_13818665.dem'}"
      ]
     },
     "execution_count": 44,
     "metadata": {},
     "output_type": "execute_result"
    }
   ],
   "source": [
    "nan_files = set(dmg_nan_files).union(nan_files)\n",
    "nan_files"
   ]
  },
  {
   "cell_type": "code",
   "execution_count": 45,
   "metadata": {},
   "outputs": [
    {
     "data": {
      "text/plain": [
       "(10536557, 23)"
      ]
     },
     "execution_count": 45,
     "metadata": {},
     "output_type": "execute_result"
    }
   ],
   "source": [
    "dmg = dmg.loc[~dmg[\"file\"].isin(nan_files)]\n",
    "dmg.shape"
   ]
  },
  {
   "cell_type": "code",
   "execution_count": 46,
   "metadata": {},
   "outputs": [],
   "source": [
    "dmg.to_csv(\"dmg_demos.csv\")"
   ]
  },
  {
   "cell_type": "markdown",
   "metadata": {},
   "source": [
    "***"
   ]
  },
  {
   "cell_type": "code",
   "execution_count": 48,
   "metadata": {},
   "outputs": [
    {
     "name": "stdout",
     "output_type": "stream",
     "text": [
      "<class 'pandas.core.frame.DataFrame'>\n",
      "RangeIndex: 1569477 entries, 0 to 1569476\n",
      "Data columns (total 13 columns):\n",
      " #   Column           Non-Null Count    Dtype  \n",
      "---  ------           --------------    -----  \n",
      " 0   file             1569477 non-null  object \n",
      " 1   round            1569477 non-null  int64  \n",
      " 2   tick             1569477 non-null  int64  \n",
      " 3   seconds          1569342 non-null  float64\n",
      " 4   att_team         1569477 non-null  object \n",
      " 5   vic_team         1569477 non-null  object \n",
      " 6   att_side         1569477 non-null  object \n",
      " 7   vic_side         1569477 non-null  object \n",
      " 8   wp               1569477 non-null  object \n",
      " 9   wp_type          1569477 non-null  object \n",
      " 10  ct_alive         1569477 non-null  int64  \n",
      " 11  t_alive          1569477 non-null  int64  \n",
      " 12  is_bomb_planted  1569477 non-null  bool   \n",
      "dtypes: bool(1), float64(1), int64(4), object(7)\n",
      "memory usage: 145.2+ MB\n"
     ]
    }
   ],
   "source": [
    "kills1 = pd.read_csv(\"esea_master_kills_demos.part1.csv\")\n",
    "kills1.info()"
   ]
  },
  {
   "cell_type": "code",
   "execution_count": 49,
   "metadata": {},
   "outputs": [
    {
     "name": "stdout",
     "output_type": "stream",
     "text": [
      "<class 'pandas.core.frame.DataFrame'>\n",
      "RangeIndex: 1173169 entries, 0 to 1173168\n",
      "Data columns (total 13 columns):\n",
      " #   Column           Non-Null Count    Dtype  \n",
      "---  ------           --------------    -----  \n",
      " 0   file             1173169 non-null  object \n",
      " 1   round            1173169 non-null  int64  \n",
      " 2   tick             1173169 non-null  int64  \n",
      " 3   seconds          1173020 non-null  float64\n",
      " 4   att_team         1173169 non-null  object \n",
      " 5   vic_team         1173169 non-null  object \n",
      " 6   att_side         1173169 non-null  object \n",
      " 7   vic_side         1173169 non-null  object \n",
      " 8   wp               1173169 non-null  object \n",
      " 9   wp_type          1173169 non-null  object \n",
      " 10  ct_alive         1173169 non-null  int64  \n",
      " 11  t_alive          1173169 non-null  int64  \n",
      " 12  is_bomb_planted  1173169 non-null  bool   \n",
      "dtypes: bool(1), float64(1), int64(4), object(7)\n",
      "memory usage: 108.5+ MB\n"
     ]
    }
   ],
   "source": [
    "kills2 = pd.read_csv(\"esea_master_kills_demos.part2.csv\")\n",
    "kills2.info()"
   ]
  },
  {
   "cell_type": "code",
   "execution_count": null,
   "metadata": {},
   "outputs": [],
   "source": []
  }
 ],
 "metadata": {
  "kernelspec": {
   "display_name": "Python 3.10.6 64-bit",
   "language": "python",
   "name": "python3"
  },
  "language_info": {
   "codemirror_mode": {
    "name": "ipython",
    "version": 3
   },
   "file_extension": ".py",
   "mimetype": "text/x-python",
   "name": "python",
   "nbconvert_exporter": "python",
   "pygments_lexer": "ipython3",
   "version": "3.10.6"
  },
  "orig_nbformat": 4,
  "vscode": {
   "interpreter": {
    "hash": "882fec4a8d6b77c1e1c382bc023360dcd38235d6d0e3b85ad593a1cdfa2a1132"
   }
  }
 },
 "nbformat": 4,
 "nbformat_minor": 2
}

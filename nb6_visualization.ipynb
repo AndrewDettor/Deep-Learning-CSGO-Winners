{
 "cells": [
  {
   "cell_type": "code",
   "execution_count": 1,
   "metadata": {},
   "outputs": [],
   "source": [
    "import pandas as pd\n",
    "import seaborn as sns\n",
    "import matplotlib.pyplot as plt\n",
    "%matplotlib inline"
   ]
  },
  {
   "attachments": {},
   "cell_type": "markdown",
   "metadata": {},
   "source": [
    "***"
   ]
  },
  {
   "cell_type": "code",
   "execution_count": 2,
   "metadata": {},
   "outputs": [
    {
     "data": {
      "text/html": [
       "<div>\n",
       "<style scoped>\n",
       "    .dataframe tbody tr th:only-of-type {\n",
       "        vertical-align: middle;\n",
       "    }\n",
       "\n",
       "    .dataframe tbody tr th {\n",
       "        vertical-align: top;\n",
       "    }\n",
       "\n",
       "    .dataframe thead th {\n",
       "        text-align: right;\n",
       "    }\n",
       "</style>\n",
       "<table border=\"1\" class=\"dataframe\">\n",
       "  <thead>\n",
       "    <tr style=\"text-align: right;\">\n",
       "      <th></th>\n",
       "      <th>0</th>\n",
       "    </tr>\n",
       "  </thead>\n",
       "  <tbody>\n",
       "    <tr>\n",
       "      <th>winner_side</th>\n",
       "      <td>0.000022</td>\n",
       "    </tr>\n",
       "    <tr>\n",
       "      <th>t_wp_type_Pistol_damage</th>\n",
       "      <td>0.000013</td>\n",
       "    </tr>\n",
       "    <tr>\n",
       "      <th>t_wp_type_Pistol_kills</th>\n",
       "      <td>0.000013</td>\n",
       "    </tr>\n",
       "    <tr>\n",
       "      <th>length_seconds</th>\n",
       "      <td>0.000010</td>\n",
       "    </tr>\n",
       "    <tr>\n",
       "      <th>ct_wp_type_Equipment_damage</th>\n",
       "      <td>0.000009</td>\n",
       "    </tr>\n",
       "    <tr>\n",
       "      <th>ct_Incendiary_hits</th>\n",
       "      <td>0.000009</td>\n",
       "    </tr>\n",
       "  </tbody>\n",
       "</table>\n",
       "</div>"
      ],
      "text/plain": [
       "                                    0\n",
       "winner_side                  0.000022\n",
       "t_wp_type_Pistol_damage      0.000013\n",
       "t_wp_type_Pistol_kills       0.000013\n",
       "length_seconds               0.000010\n",
       "ct_wp_type_Equipment_damage  0.000009\n",
       "ct_Incendiary_hits           0.000009"
      ]
     },
     "execution_count": 2,
     "metadata": {},
     "output_type": "execute_result"
    }
   ],
   "source": [
    "grad = pd.read_csv(\"grad_feat_imp.csv\", index_col=0)\n",
    "grad"
   ]
  },
  {
   "cell_type": "code",
   "execution_count": 7,
   "metadata": {},
   "outputs": [
    {
     "data": {
      "image/png": "[encoded data removed]",
      "text/plain": [
       "<Figure size 432x288 with 1 Axes>"
      ]
     },
     "metadata": {
      "needs_background": "light"
     },
     "output_type": "display_data"
    }
   ],
   "source": [
    "ax = sns.barplot(x=grad[\"0\"], y=list(grad.index), color=\"blue\")\n",
    "ax.set(xlabel=\"Average Gradient\", title=\"Largest Average Gradients\")\n",
    "plt.show()"
   ]
  },
  {
   "attachments": {},
   "cell_type": "markdown",
   "metadata": {},
   "source": [
    "***"
   ]
  },
  {
   "cell_type": "code",
   "execution_count": 8,
   "metadata": {},
   "outputs": [
    {
     "data": {
      "text/html": [
       "<div>\n",
       "<style scoped>\n",
       "    .dataframe tbody tr th:only-of-type {\n",
       "        vertical-align: middle;\n",
       "    }\n",
       "\n",
       "    .dataframe tbody tr th {\n",
       "        vertical-align: top;\n",
       "    }\n",
       "\n",
       "    .dataframe thead th {\n",
       "        text-align: right;\n",
       "    }\n",
       "</style>\n",
       "<table border=\"1\" class=\"dataframe\">\n",
       "  <thead>\n",
       "    <tr style=\"text-align: right;\">\n",
       "      <th></th>\n",
       "      <th>0</th>\n",
       "    </tr>\n",
       "  </thead>\n",
       "  <tbody>\n",
       "    <tr>\n",
       "      <th>winner_side</th>\n",
       "      <td>0.049427</td>\n",
       "    </tr>\n",
       "    <tr>\n",
       "      <th>ct_eq_val</th>\n",
       "      <td>0.004989</td>\n",
       "    </tr>\n",
       "    <tr>\n",
       "      <th>t_wp_type_Rifle_kills</th>\n",
       "      <td>0.002666</td>\n",
       "    </tr>\n",
       "    <tr>\n",
       "      <th>t_eq_val</th>\n",
       "      <td>0.001459</td>\n",
       "    </tr>\n",
       "    <tr>\n",
       "      <th>t_wp_type_Sniper_kills</th>\n",
       "      <td>0.001263</td>\n",
       "    </tr>\n",
       "    <tr>\n",
       "      <th>t_wp_type_Rifle_damage</th>\n",
       "      <td>0.001223</td>\n",
       "    </tr>\n",
       "  </tbody>\n",
       "</table>\n",
       "</div>"
      ],
      "text/plain": [
       "                               0\n",
       "winner_side             0.049427\n",
       "ct_eq_val               0.004989\n",
       "t_wp_type_Rifle_kills   0.002666\n",
       "t_eq_val                0.001459\n",
       "t_wp_type_Sniper_kills  0.001263\n",
       "t_wp_type_Rifle_damage  0.001223"
      ]
     },
     "execution_count": 8,
     "metadata": {},
     "output_type": "execute_result"
    }
   ],
   "source": [
    "perm = pd.read_csv(\"perm_imp_loss.csv\", index_col=0)\n",
    "perm"
   ]
  },
  {
   "cell_type": "code",
   "execution_count": 9,
   "metadata": {},
   "outputs": [
    {
     "data": {
      "image/png": "[encoded data removed]",
      "text/plain": [
       "<Figure size 432x288 with 1 Axes>"
      ]
     },
     "metadata": {
      "needs_background": "light"
     },
     "output_type": "display_data"
    }
   ],
   "source": [
    "ax = sns.barplot(x=perm[\"0\"], y=list(perm.index), color=\"blue\")\n",
    "ax.set(xlabel=\"Increase in Loss When Permuted\", title=\"Permutation Importance\")\n",
    "plt.show()"
   ]
  },
  {
   "attachments": {},
   "cell_type": "markdown",
   "metadata": {},
   "source": [
    "***"
   ]
  },
  {
   "cell_type": "code",
   "execution_count": 10,
   "metadata": {},
   "outputs": [
    {
     "data": {
      "text/html": [
       "<div>\n",
       "<style scoped>\n",
       "    .dataframe tbody tr th:only-of-type {\n",
       "        vertical-align: middle;\n",
       "    }\n",
       "\n",
       "    .dataframe tbody tr th {\n",
       "        vertical-align: top;\n",
       "    }\n",
       "\n",
       "    .dataframe thead th {\n",
       "        text-align: right;\n",
       "    }\n",
       "</style>\n",
       "<table border=\"1\" class=\"dataframe\">\n",
       "  <thead>\n",
       "    <tr style=\"text-align: right;\">\n",
       "      <th></th>\n",
       "      <th>Train Loss</th>\n",
       "      <th>Valid Loss</th>\n",
       "      <th>Train+Valid Loss</th>\n",
       "      <th>Test Loss</th>\n",
       "      <th>Train Acc</th>\n",
       "      <th>Valid Acc</th>\n",
       "      <th>Train+Valid Acc</th>\n",
       "      <th>Test Acc</th>\n",
       "    </tr>\n",
       "  </thead>\n",
       "  <tbody>\n",
       "    <tr>\n",
       "      <th>1</th>\n",
       "      <td>0.560175</td>\n",
       "      <td>0.553076</td>\n",
       "      <td>0.556589</td>\n",
       "      <td>0.551334</td>\n",
       "      <td>0.616096</td>\n",
       "      <td>0.634593</td>\n",
       "      <td>0.624120</td>\n",
       "      <td>0.635548</td>\n",
       "    </tr>\n",
       "    <tr>\n",
       "      <th>2</th>\n",
       "      <td>0.548298</td>\n",
       "      <td>0.550298</td>\n",
       "      <td>0.546754</td>\n",
       "      <td>0.546874</td>\n",
       "      <td>0.634768</td>\n",
       "      <td>0.636138</td>\n",
       "      <td>0.637697</td>\n",
       "      <td>0.638986</td>\n",
       "    </tr>\n",
       "    <tr>\n",
       "      <th>3</th>\n",
       "      <td>0.545292</td>\n",
       "      <td>0.545981</td>\n",
       "      <td>0.541988</td>\n",
       "      <td>0.540044</td>\n",
       "      <td>0.635576</td>\n",
       "      <td>0.636543</td>\n",
       "      <td>0.640132</td>\n",
       "      <td>0.639997</td>\n",
       "    </tr>\n",
       "    <tr>\n",
       "      <th>4</th>\n",
       "      <td>0.540648</td>\n",
       "      <td>0.540490</td>\n",
       "      <td>0.537452</td>\n",
       "      <td>0.537514</td>\n",
       "      <td>0.638334</td>\n",
       "      <td>0.637733</td>\n",
       "      <td>0.641973</td>\n",
       "      <td>0.640199</td>\n",
       "    </tr>\n",
       "    <tr>\n",
       "      <th>5</th>\n",
       "      <td>0.537382</td>\n",
       "      <td>0.539290</td>\n",
       "      <td>0.535564</td>\n",
       "      <td>0.536159</td>\n",
       "      <td>0.641397</td>\n",
       "      <td>0.639886</td>\n",
       "      <td>0.643033</td>\n",
       "      <td>0.641943</td>\n",
       "    </tr>\n",
       "    <tr>\n",
       "      <th>6</th>\n",
       "      <td>0.535856</td>\n",
       "      <td>0.538633</td>\n",
       "      <td>0.534133</td>\n",
       "      <td>0.535110</td>\n",
       "      <td>0.642822</td>\n",
       "      <td>0.641607</td>\n",
       "      <td>0.644070</td>\n",
       "      <td>0.643460</td>\n",
       "    </tr>\n",
       "    <tr>\n",
       "      <th>7</th>\n",
       "      <td>0.534722</td>\n",
       "      <td>0.538196</td>\n",
       "      <td>0.532902</td>\n",
       "      <td>0.534352</td>\n",
       "      <td>0.644279</td>\n",
       "      <td>0.644494</td>\n",
       "      <td>0.645705</td>\n",
       "      <td>0.643764</td>\n",
       "    </tr>\n",
       "    <tr>\n",
       "      <th>8</th>\n",
       "      <td>0.533713</td>\n",
       "      <td>0.537837</td>\n",
       "      <td>0.531837</td>\n",
       "      <td>0.533929</td>\n",
       "      <td>0.645262</td>\n",
       "      <td>0.644621</td>\n",
       "      <td>0.646707</td>\n",
       "      <td>0.645129</td>\n",
       "    </tr>\n",
       "    <tr>\n",
       "      <th>9</th>\n",
       "      <td>0.532768</td>\n",
       "      <td>0.537529</td>\n",
       "      <td>0.530947</td>\n",
       "      <td>0.533934</td>\n",
       "      <td>0.646032</td>\n",
       "      <td>0.645355</td>\n",
       "      <td>0.648144</td>\n",
       "      <td>0.645584</td>\n",
       "    </tr>\n",
       "    <tr>\n",
       "      <th>10</th>\n",
       "      <td>0.531905</td>\n",
       "      <td>0.537344</td>\n",
       "      <td>0.530207</td>\n",
       "      <td>0.534323</td>\n",
       "      <td>0.646775</td>\n",
       "      <td>0.646216</td>\n",
       "      <td>0.648432</td>\n",
       "      <td>0.645078</td>\n",
       "    </tr>\n",
       "    <tr>\n",
       "      <th>11</th>\n",
       "      <td>0.531188</td>\n",
       "      <td>0.537254</td>\n",
       "      <td>0.529581</td>\n",
       "      <td>0.534896</td>\n",
       "      <td>0.647315</td>\n",
       "      <td>0.645912</td>\n",
       "      <td>0.649015</td>\n",
       "      <td>0.644699</td>\n",
       "    </tr>\n",
       "    <tr>\n",
       "      <th>12</th>\n",
       "      <td>0.530590</td>\n",
       "      <td>0.537203</td>\n",
       "      <td>0.529041</td>\n",
       "      <td>0.535335</td>\n",
       "      <td>0.648221</td>\n",
       "      <td>0.645709</td>\n",
       "      <td>0.649384</td>\n",
       "      <td>0.643966</td>\n",
       "    </tr>\n",
       "    <tr>\n",
       "      <th>13</th>\n",
       "      <td>0.530062</td>\n",
       "      <td>0.537173</td>\n",
       "      <td>0.528556</td>\n",
       "      <td>0.535536</td>\n",
       "      <td>0.648620</td>\n",
       "      <td>0.644848</td>\n",
       "      <td>0.649703</td>\n",
       "      <td>0.643839</td>\n",
       "    </tr>\n",
       "    <tr>\n",
       "      <th>14</th>\n",
       "      <td>0.529577</td>\n",
       "      <td>0.537174</td>\n",
       "      <td>0.528093</td>\n",
       "      <td>0.535535</td>\n",
       "      <td>0.648877</td>\n",
       "      <td>0.645633</td>\n",
       "      <td>0.650156</td>\n",
       "      <td>0.643814</td>\n",
       "    </tr>\n",
       "    <tr>\n",
       "      <th>15</th>\n",
       "      <td>0.529123</td>\n",
       "      <td>0.537223</td>\n",
       "      <td>0.527654</td>\n",
       "      <td>0.535576</td>\n",
       "      <td>0.649177</td>\n",
       "      <td>0.645836</td>\n",
       "      <td>0.650745</td>\n",
       "      <td>0.643713</td>\n",
       "    </tr>\n",
       "  </tbody>\n",
       "</table>\n",
       "</div>"
      ],
      "text/plain": [
       "    Train Loss  Valid Loss  Train+Valid Loss  Test Loss  Train Acc  Valid Acc  \\\n",
       "1     0.560175    0.553076          0.556589   0.551334   0.616096   0.634593   \n",
       "2     0.548298    0.550298          0.546754   0.546874   0.634768   0.636138   \n",
       "3     0.545292    0.545981          0.541988   0.540044   0.635576   0.636543   \n",
       "4     0.540648    0.540490          0.537452   0.537514   0.638334   0.637733   \n",
       "5     0.537382    0.539290          0.535564   0.536159   0.641397   0.639886   \n",
       "6     0.535856    0.538633          0.534133   0.535110   0.642822   0.641607   \n",
       "7     0.534722    0.538196          0.532902   0.534352   0.644279   0.644494   \n",
       "8     0.533713    0.537837          0.531837   0.533929   0.645262   0.644621   \n",
       "9     0.532768    0.537529          0.530947   0.533934   0.646032   0.645355   \n",
       "10    0.531905    0.537344          0.530207   0.534323   0.646775   0.646216   \n",
       "11    0.531188    0.537254          0.529581   0.534896   0.647315   0.645912   \n",
       "12    0.530590    0.537203          0.529041   0.535335   0.648221   0.645709   \n",
       "13    0.530062    0.537173          0.528556   0.535536   0.648620   0.644848   \n",
       "14    0.529577    0.537174          0.528093   0.535535   0.648877   0.645633   \n",
       "15    0.529123    0.537223          0.527654   0.535576   0.649177   0.645836   \n",
       "\n",
       "    Train+Valid Acc  Test Acc  \n",
       "1          0.624120  0.635548  \n",
       "2          0.637697  0.638986  \n",
       "3          0.640132  0.639997  \n",
       "4          0.641973  0.640199  \n",
       "5          0.643033  0.641943  \n",
       "6          0.644070  0.643460  \n",
       "7          0.645705  0.643764  \n",
       "8          0.646707  0.645129  \n",
       "9          0.648144  0.645584  \n",
       "10         0.648432  0.645078  \n",
       "11         0.649015  0.644699  \n",
       "12         0.649384  0.643966  \n",
       "13         0.649703  0.643839  \n",
       "14         0.650156  0.643814  \n",
       "15         0.650745  0.643713  "
      ]
     },
     "execution_count": 10,
     "metadata": {},
     "output_type": "execute_result"
    }
   ],
   "source": [
    "log = pd.read_csv(\"loss_acc_log.csv\", index_col=0)\n",
    "log"
   ]
  },
  {
   "attachments": {},
   "cell_type": "markdown",
   "metadata": {},
   "source": [
    "***"
   ]
  },
  {
   "cell_type": "code",
   "execution_count": 14,
   "metadata": {},
   "outputs": [
    {
     "data": {
      "text/plain": [
       "Index(['Train', 'Valid', 'Train+Valid', 'Test'], dtype='object')"
      ]
     },
     "execution_count": 14,
     "metadata": {},
     "output_type": "execute_result"
    }
   ],
   "source": [
    "loss_log = log[[col for col in log.columns if \"Loss\" in col]]\n",
    "loss_log.columns = [col[0:-5] for col in loss_log.columns]\n",
    "loss_log.columns"
   ]
  },
  {
   "cell_type": "code",
   "execution_count": 22,
   "metadata": {},
   "outputs": [
    {
     "data": {
      "image/png": "[encoded data removed]",
      "text/plain": [
       "<Figure size 432x288 with 1 Axes>"
      ]
     },
     "metadata": {
      "needs_background": "light"
     },
     "output_type": "display_data"
    }
   ],
   "source": [
    "ax = sns.lineplot(data=loss_log)\n",
    "ax = ax.set(xlabel=\"Epoch\", ylabel=\"Loss\", title=\"Loss Learning Curves\")\n",
    "plt.show()"
   ]
  },
  {
   "attachments": {},
   "cell_type": "markdown",
   "metadata": {},
   "source": [
    "***"
   ]
  },
  {
   "cell_type": "code",
   "execution_count": 17,
   "metadata": {},
   "outputs": [
    {
     "data": {
      "text/plain": [
       "Index(['Train', 'Valid', 'Train+Valid', 'Test'], dtype='object')"
      ]
     },
     "execution_count": 17,
     "metadata": {},
     "output_type": "execute_result"
    }
   ],
   "source": [
    "acc_log = log[[col for col in log.columns if \"Acc\" in col]]\n",
    "acc_log.columns = [col[0:-4] for col in acc_log.columns]\n",
    "acc_log.columns"
   ]
  },
  {
   "cell_type": "code",
   "execution_count": 23,
   "metadata": {},
   "outputs": [
    {
     "data": {
      "image/png": "[encoded data removed]",
      "text/plain": [
       "<Figure size 432x288 with 1 Axes>"
      ]
     },
     "metadata": {
      "needs_background": "light"
     },
     "output_type": "display_data"
    }
   ],
   "source": [
    "ax = sns.lineplot(data=acc_log)\n",
    "ax = ax.set(xlabel=\"Epoch\", ylabel=\"Acc\", title=\"Acc Learning Curves\")\n",
    "plt.show()"
   ]
  }
 ],
 "metadata": {
  "kernelspec": {
   "display_name": "base",
   "language": "python",
   "name": "python3"
  },
  "language_info": {
   "codemirror_mode": {
    "name": "ipython",
    "version": 3
   },
   "file_extension": ".py",
   "mimetype": "text/x-python",
   "name": "python",
   "nbconvert_exporter": "python",
   "pygments_lexer": "ipython3",
   "version": "3.8.8"
  },
  "orig_nbformat": 4,
  "vscode": {
   "interpreter": {
    "hash": "764ccf91d74e98c18e44d685565a3783f70d291dca1888b998726eb80a7fffc8"
   }
  }
 },
 "nbformat": 4,
 "nbformat_minor": 2
}
